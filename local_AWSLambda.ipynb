{
 "cells": [
  {
   "cell_type": "markdown",
   "id": "e3d9133c",
   "metadata": {},
   "source": [
    "### Run AWS Lambda locally with docker "
   ]
  },
  {
   "cell_type": "markdown",
   "id": "79c9a0e5",
   "metadata": {},
   "source": [
    "create a `Dockerfile` with following content:\n",
    "\n",
    "```yaml\n",
    "FROM public.ecr.aws/lambda/python:3.6\n",
    "ENTRYPOINT [\"/lambda-entrypoint.sh\"]\n",
    "COPY lambda_function.py ./\n",
    "CMD [\"lambda_function.lambda_handler\"]\n",
    "```\n",
    "\n",
    "**NOTE:** you can find various images at https://gallery.ecr.aws/lambda/python\n",
    "***"
   ]
  },
  {
   "cell_type": "markdown",
   "id": "6c040017",
   "metadata": {},
   "source": [
    "create a `lambda_function.py` with following content:\n",
    "\n",
    "```python\n",
    "def lambda_handler(event, context):\n",
    "    i1 = event['input1']\n",
    "    i2 = event['input2']\n",
    "    result = i1+i2\n",
    "    return {\n",
    "        \"statusCode\": 200, \n",
    "        \"result\": result, \n",
    "        'headers': {\n",
    "            'Content-Type': 'application/json',\n",
    "            'Access-Control-Allow-Headers': 'Content-Type',\n",
    "            'Access-Control-Allow-Origin': '*',\n",
    "            'Access-Control-Allow-Methods': 'OPTIONS,POST,GET'        \n",
    "        }\n",
    "    }\n",
    "```\n",
    "***"
   ]
  },
  {
   "cell_type": "markdown",
   "id": "b05c70fd",
   "metadata": {},
   "source": [
    "- Open terminal and run following commands to create and run docker:\n",
    "```sh\n",
    "docker build -t myfunction:latest .\n",
    "docker run -p 9000:8080  myfunction:latest \n",
    "```\n",
    "\n",
    "- Open a new terminal window, post an event to the following endpoint using a curl command: (without any inputs)\n",
    "```sh\n",
    "curl -XPOST \"http://localhost:9000/2015-03-31/functions/function/invocations\" -d '{\"input1\":5, \"input1\":6}'\n",
    "```\n",
    "\n",
    "**Reference:** https://docs.aws.amazon.com/lambda/latest/dg/images-test.html\n",
    "***"
   ]
  }
 ],
 "metadata": {
  "hide_input": false,
  "kernelspec": {
   "display_name": "Python 3",
   "language": "python",
   "name": "python3"
  },
  "language_info": {
   "codemirror_mode": {
    "name": "ipython",
    "version": 3
   },
   "file_extension": ".py",
   "mimetype": "text/x-python",
   "name": "python",
   "nbconvert_exporter": "python",
   "pygments_lexer": "ipython3",
   "version": "3.5.10"
  }
 },
 "nbformat": 4,
 "nbformat_minor": 5
}
