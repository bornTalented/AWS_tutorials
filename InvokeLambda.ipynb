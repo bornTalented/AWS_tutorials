{
 "cells": [
  {
   "cell_type": "markdown",
   "id": "a230cae0",
   "metadata": {},
   "source": [
    "### Invoke AWS Lambda from jupyter notebook"
   ]
  },
  {
   "cell_type": "code",
   "execution_count": 1,
   "id": "60127aff",
   "metadata": {},
   "outputs": [],
   "source": [
    "import pandas as pd\n",
    "import json\n",
    "import boto3"
   ]
  },
  {
   "cell_type": "code",
   "execution_count": null,
   "id": "05781c29",
   "metadata": {},
   "outputs": [],
   "source": [
    "# Fetch the aws user region\n",
    "my_session = boto3.session.Session()\n",
    "my_region = my_session.region_name"
   ]
  },
  {
   "cell_type": "code",
   "execution_count": null,
   "id": "3e3ab2d1",
   "metadata": {},
   "outputs": [],
   "source": [
    "# Initialize AWS Lambda client\n",
    "lambda_client = boto3.client('lambda', region_name=my_region)"
   ]
  },
  {
   "cell_type": "code",
   "execution_count": null,
   "id": "01ef5662",
   "metadata": {},
   "outputs": [],
   "source": [
    "# Define the AWS Lambda function name\n",
    "function_name = 'my_aws_lambda'"
   ]
  },
  {
   "cell_type": "code",
   "execution_count": null,
   "id": "4f339307",
   "metadata": {},
   "outputs": [],
   "source": [
    "# Define the function to invoke the AWS Lambda function on the desired column\n",
    "def invoke_lambda(json_string):\n",
    "    \n",
    "    payload = json.loads(json_string)\n",
    "    \n",
    "    # Invoke the AWS Lambda function\n",
    "    response = lambda_client.invoke(FunctionName=function_name, Payload=json.dumps(payload))\n",
    "    \n",
    "    # Extract the output from the response\n",
    "    output_data = json.loads(response['Payload'].read().decode('utf-8'))\n",
    "    \n",
    "    # Store the output data in a new column\n",
    "    return output_data['result']"
   ]
  },
  {
   "cell_type": "code",
   "execution_count": null,
   "id": "a6c11585",
   "metadata": {},
   "outputs": [],
   "source": [
    "# Load the dataframe\n",
    "df = pd.read_csv('inputs.csv')\n",
    "print(df.shape)\n",
    "df.head()"
   ]
  },
  {
   "cell_type": "code",
   "execution_count": null,
   "id": "ed9b2743",
   "metadata": {},
   "outputs": [],
   "source": [
    "# Apply the function to the desired column\n",
    "df['prediction'] = df['input_features_json'].apply(invoke_lambda)"
   ]
  },
  {
   "cell_type": "markdown",
   "id": "55236826",
   "metadata": {},
   "source": [
    "### Assumption: \n",
    "- You have already created an AWS Lambda function named *my_aws_lambda* \n",
    "- Above example uses following files while registering ECR for lambda\n",
    "\n",
    "`lambda_function.py`\n",
    "***\n",
    "```python\n",
    "import pickle\n",
    "import json\n",
    "import pandas as pd\n",
    "\n",
    "# Load the saved preprocessor \n",
    "BASEPATH = '.'\n",
    "PREPROCESS_FILENAME = BASEPATH + '/Preprocessor.sav'\n",
    "preprocess = pickle.load(open(PREPROCESS_FILENAME, 'rb'))\n",
    "\n",
    "# Load the trained ML model \n",
    "MODEL_FILENAME = BASEPATH + '/trainedML_model.sav'\n",
    "model = pickle.load(open(MODEL_FILENAME, 'rb'))\n",
    "\n",
    "\n",
    "def get_prediction(json_string):\n",
    "    try:\n",
    "        inputs_features_dict = json.loads(json_string)\n",
    "        df_features = pd.DataFrame([inputs_features_dict])\n",
    "        \n",
    "        scaled_features = preprocess.transform(df_features)\n",
    "        prediction = model.predict(scaled_features) \n",
    "    \n",
    "    except Exception as e:\n",
    "        prediction = -1\n",
    "        print(f'Exception: {e}')\n",
    "    return prediction\n",
    "\n",
    "\n",
    "def lambda_handler(event, context):\n",
    "    result = get_income(json.dumps(event))\n",
    "    return {\n",
    "        \"statusCode\": 200, \n",
    "        \"result\": result, \n",
    "        'headers': {\n",
    "            'Content-Type': 'application/json',\n",
    "            'Access-Control-Allow-Headers': 'Content-Type',\n",
    "            'Access-Control-Allow-Origin': '*',\n",
    "            'Access-Control-Allow-Methods': 'OPTIONS,POST,GET'        \n",
    "        }\n",
    "    }\n",
    "```\n",
    "***\n",
    "\n",
    "`Dockerfile`\n",
    "\n",
    "```yaml\n",
    "FROM public.ecr.aws/lambda/python:3.6\n",
    "RUN pip install numpy scikit-learn pandas\n",
    "# ENTRYPOINT [\"/lambda-entrypoint.sh\"]\n",
    "COPY Preprocessor.sav ./\n",
    "COPY trainedML_model.sav ./\n",
    "COPY lambda_function.py ./\n",
    "CMD [\"lambda_function.lambda_handler\"]\n",
    "```\n",
    "***"
   ]
  }
 ],
 "metadata": {
  "hide_input": false,
  "kernelspec": {
   "display_name": "Python 3",
   "language": "python",
   "name": "python3"
  },
  "language_info": {
   "codemirror_mode": {
    "name": "ipython",
    "version": 3
   },
   "file_extension": ".py",
   "mimetype": "text/x-python",
   "name": "python",
   "nbconvert_exporter": "python",
   "pygments_lexer": "ipython3",
   "version": "3.5.10"
  }
 },
 "nbformat": 4,
 "nbformat_minor": 5
}
